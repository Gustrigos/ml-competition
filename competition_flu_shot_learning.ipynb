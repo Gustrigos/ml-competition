{
 "cells": [
  {
   "cell_type": "markdown",
   "metadata": {},
   "source": [
    "## DrivenData Competition"
   ]
  },
  {
   "cell_type": "markdown",
   "metadata": {},
   "source": [
    "<b>Team</b>: Adam Fenyvesi, Alban de Raemy, Gustavo A. Trigos, Nicola-Marie Noritz, Yağız Yaver Çiçek\n",
    "\n",
    "<b>Competition</b>: Flu Shot Learning: Predict H1N1 and Seasonal Flu Vaccines\n",
    "\n",
    "<b>Link of Competition</b>: <a href=\"https://www.drivendata.org/competitions/66/flu-shot-learning/page/210/\">Click Here</a>"
   ]
  },
  {
   "cell_type": "markdown",
   "metadata": {},
   "source": [
    "<b>Objective</b>: Your goal is to predict how likely individuals are to receive their H1N1 and seasonal flu vaccines. Specifically, you'll be predicting two probabilities: one for h1n1_vaccine and one for seasonal_vaccine.\n",
    "\n",
    "Each row in the dataset represents one person who responded to the National 2009 H1N1 Flu Survey. "
   ]
  },
  {
   "cell_type": "markdown",
   "metadata": {},
   "source": [
    "## Libraries"
   ]
  },
  {
   "cell_type": "code",
   "execution_count": 1,
   "metadata": {},
   "outputs": [],
   "source": [
    "import time\n",
    "# Start time including loading the libraries\n",
    "start = time.time()"
   ]
  },
  {
   "cell_type": "code",
   "execution_count": 2,
   "metadata": {},
   "outputs": [],
   "source": [
    "# Data exploration and manipulation essentials\n",
    "import numpy as np \n",
    "import pandas as pd\n",
    "import matplotlib.pyplot as plt\n",
    "import seaborn as sns\n",
    "import random as rand\n",
    "\n",
    "# Statistic tests\n",
    "from scipy import stats\n",
    "from statsmodels.stats.outliers_influence import variance_inflation_factor # Calculating VIF\n",
    "\n",
    "# Preprocessing\n",
    "from sklearn.preprocessing import MinMaxScaler, StandardScaler\n",
    "from sklearn.model_selection import train_test_split\n",
    "\n",
    "# Classification Models\n",
    "import statsmodels.formula.api as smf\n",
    "from sklearn.linear_model import LogisticRegression\n",
    "from sklearn.neighbors import KNeighborsClassifier\n",
    "from sklearn.tree import DecisionTreeClassifier\n",
    "from sklearn.ensemble import RandomForestClassifier,GradientBoostingClassifier\n",
    "\n",
    "# Cross-validation\n",
    "from sklearn.model_selection import RandomizedSearchCV\n",
    "from sklearn.metrics import make_scorer  \n",
    "\n",
    "# Metrics\n",
    "from sklearn.metrics import roc_auc_score, confusion_matrix\n",
    "\n",
    "# Misc\n",
    "import gender_guesser.detector as gender"
   ]
  },
  {
   "cell_type": "code",
   "execution_count": 3,
   "metadata": {},
   "outputs": [],
   "source": [
    "# setting random seed\n",
    "rand.seed(a = 7)"
   ]
  },
  {
   "cell_type": "markdown",
   "metadata": {},
   "source": [
    "## Loading Data"
   ]
  },
  {
   "cell_type": "code",
   "execution_count": 12,
   "metadata": {},
   "outputs": [],
   "source": [
    "# Loading the dataset\n",
    "train_features = pd.read_csv('./datasets/Training_Features.csv',index_col=0)\n",
    "train_labels = pd.read_csv('./datasets/Training_Labels.csv',index_col=0)\n",
    "\n",
    "test_features = pd.read_csv('./datasets/Test_Features.csv',index_col=0)"
   ]
  },
  {
   "cell_type": "code",
   "execution_count": 62,
   "metadata": {},
   "outputs": [],
   "source": [
    "# Joining train and test features\n",
    "df = pd.concat([train_features,test_features])"
   ]
  },
  {
   "cell_type": "markdown",
   "metadata": {},
   "source": [
    "## Data Preprocessing"
   ]
  },
  {
   "cell_type": "markdown",
   "metadata": {},
   "source": [
    "### Missing Values"
   ]
  },
  {
   "cell_type": "code",
   "execution_count": 63,
   "metadata": {},
   "outputs": [
    {
     "data": {
      "text/plain": [
       "h1n1_concern                     177\n",
       "h1n1_knowledge                   238\n",
       "behavioral_antiviral_meds        150\n",
       "behavioral_avoidance             421\n",
       "behavioral_face_mask              38\n",
       "behavioral_wash_hands             82\n",
       "behavioral_large_gatherings      159\n",
       "behavioral_outside_home          164\n",
       "behavioral_touch_face            256\n",
       "doctor_recc_h1n1                4320\n",
       "doctor_recc_seasonal            4320\n",
       "chronic_med_condition           1903\n",
       "child_under_6_months            1633\n",
       "health_worker                   1593\n",
       "health_insurance               24502\n",
       "opinion_h1n1_vacc_effective      789\n",
       "opinion_h1n1_risk                768\n",
       "opinion_h1n1_sick_from_vacc      770\n",
       "opinion_seas_vacc_effective      914\n",
       "opinion_seas_risk               1013\n",
       "opinion_seas_sick_from_vacc     1058\n",
       "education                       2814\n",
       "income_poverty                  8920\n",
       "marital_status                  2850\n",
       "rent_or_own                     4078\n",
       "employment_status               2934\n",
       "household_adults                 474\n",
       "household_children               474\n",
       "employment_industry            26605\n",
       "employment_occupation          26896\n",
       "dtype: int64"
      ]
     },
     "execution_count": 63,
     "metadata": {},
     "output_type": "execute_result"
    }
   ],
   "source": [
    "# Looking into columns with any missing values\n",
    "df.isna().sum()[df.isna().sum() > 0] "
   ]
  },
  {
   "cell_type": "code",
   "execution_count": 64,
   "metadata": {},
   "outputs": [],
   "source": [
    "# Data imputation\n",
    "\n"
   ]
  },
  {
   "cell_type": "markdown",
   "metadata": {},
   "source": [
    "### Splitting Data into Numerical Data and Categorical"
   ]
  },
  {
   "cell_type": "code",
   "execution_count": 65,
   "metadata": {},
   "outputs": [],
   "source": [
    "# Select all features excluding 'object' or categorical data\n",
    "df_num = df.select_dtypes(exclude = 'object').copy()\n",
    "df_cat = df.select_dtypes(include = 'object').copy()"
   ]
  },
  {
   "cell_type": "code",
   "execution_count": 66,
   "metadata": {},
   "outputs": [],
   "source": [
    "# Isolating Y-variable from main analysis (choose between h1n1_vaccine or seasonal_vaccine)\n",
    "response_var_1 = 'h1n1_vaccine'\n",
    "response_var_2 = 'seasonal_vaccine'\n",
    "df_response = train_labels"
   ]
  },
  {
   "cell_type": "markdown",
   "metadata": {},
   "source": [
    "### Exploring Response Variable's proportions"
   ]
  },
  {
   "cell_type": "code",
   "execution_count": 67,
   "metadata": {},
   "outputs": [
    {
     "data": {
      "text/plain": [
       "0    0.79\n",
       "1    0.21\n",
       "Name: h1n1_vaccine, dtype: float64"
      ]
     },
     "execution_count": 67,
     "metadata": {},
     "output_type": "execute_result"
    }
   ],
   "source": [
    "# Response variable proportion breakdown\n",
    "(df_response[response_var_1].value_counts() / df_response[response_var_1].shape[0]).round(decimals = 2)"
   ]
  },
  {
   "cell_type": "code",
   "execution_count": 68,
   "metadata": {},
   "outputs": [
    {
     "data": {
      "text/plain": [
       "0    0.53\n",
       "1    0.47\n",
       "Name: seasonal_vaccine, dtype: float64"
      ]
     },
     "execution_count": 68,
     "metadata": {},
     "output_type": "execute_result"
    }
   ],
   "source": [
    "(df_response[response_var_2].value_counts() / df_response[response_var_2].shape[0]).round(decimals = 2)"
   ]
  },
  {
   "cell_type": "markdown",
   "metadata": {},
   "source": [
    "## Numerical Data"
   ]
  },
  {
   "cell_type": "markdown",
   "metadata": {},
   "source": [
    "### Correlation with dependent and independent variables"
   ]
  },
  {
   "cell_type": "code",
   "execution_count": 69,
   "metadata": {
    "scrolled": false
   },
   "outputs": [],
   "source": [
    "# Correlation between dependent variable and independent variables\n",
    "response_corr_1 = df_num.join(df_response).corr()[[response_var_1]].sort_values(by=response_var_1,ascending=False).round(decimals=4)\n",
    "response_corr_2 = df_num.join(df_response).corr()[[response_var_2]].sort_values(by=response_var_2,ascending=False).round(decimals=4)"
   ]
  },
  {
   "cell_type": "code",
   "execution_count": 70,
   "metadata": {},
   "outputs": [
    {
     "data": {
      "text/html": [
       "<div>\n",
       "<style scoped>\n",
       "    .dataframe tbody tr th:only-of-type {\n",
       "        vertical-align: middle;\n",
       "    }\n",
       "\n",
       "    .dataframe tbody tr th {\n",
       "        vertical-align: top;\n",
       "    }\n",
       "\n",
       "    .dataframe thead th {\n",
       "        text-align: right;\n",
       "    }\n",
       "</style>\n",
       "<table border=\"1\" class=\"dataframe\">\n",
       "  <thead>\n",
       "    <tr style=\"text-align: right;\">\n",
       "      <th></th>\n",
       "      <th>h1n1_vaccine</th>\n",
       "      <th>seasonal_vaccine</th>\n",
       "    </tr>\n",
       "  </thead>\n",
       "  <tbody>\n",
       "    <tr>\n",
       "      <th>h1n1_vaccine</th>\n",
       "      <td>1.0000</td>\n",
       "      <td>0.3771</td>\n",
       "    </tr>\n",
       "    <tr>\n",
       "      <th>doctor_recc_h1n1</th>\n",
       "      <td>0.3939</td>\n",
       "      <td>0.1986</td>\n",
       "    </tr>\n",
       "    <tr>\n",
       "      <th>seasonal_vaccine</th>\n",
       "      <td>0.3771</td>\n",
       "      <td>1.0000</td>\n",
       "    </tr>\n",
       "    <tr>\n",
       "      <th>opinion_h1n1_risk</th>\n",
       "      <td>0.3233</td>\n",
       "      <td>0.2166</td>\n",
       "    </tr>\n",
       "    <tr>\n",
       "      <th>opinion_h1n1_vacc_effective</th>\n",
       "      <td>0.2693</td>\n",
       "      <td>0.2051</td>\n",
       "    </tr>\n",
       "    <tr>\n",
       "      <th>opinion_seas_risk</th>\n",
       "      <td>0.2586</td>\n",
       "      <td>0.3901</td>\n",
       "    </tr>\n",
       "    <tr>\n",
       "      <th>doctor_recc_seasonal</th>\n",
       "      <td>0.2099</td>\n",
       "      <td>0.3692</td>\n",
       "    </tr>\n",
       "    <tr>\n",
       "      <th>opinion_seas_vacc_effective</th>\n",
       "      <td>0.1793</td>\n",
       "      <td>0.3619</td>\n",
       "    </tr>\n",
       "    <tr>\n",
       "      <th>health_worker</th>\n",
       "      <td>0.1698</td>\n",
       "      <td>0.1273</td>\n",
       "    </tr>\n",
       "    <tr>\n",
       "      <th>h1n1_concern</th>\n",
       "      <td>0.1219</td>\n",
       "      <td>0.1548</td>\n",
       "    </tr>\n",
       "    <tr>\n",
       "      <th>health_insurance</th>\n",
       "      <td>0.1212</td>\n",
       "      <td>0.2009</td>\n",
       "    </tr>\n",
       "    <tr>\n",
       "      <th>h1n1_knowledge</th>\n",
       "      <td>0.1180</td>\n",
       "      <td>0.1202</td>\n",
       "    </tr>\n",
       "    <tr>\n",
       "      <th>chronic_med_condition</th>\n",
       "      <td>0.0952</td>\n",
       "      <td>0.1702</td>\n",
       "    </tr>\n",
       "    <tr>\n",
       "      <th>opinion_h1n1_sick_from_vacc</th>\n",
       "      <td>0.0751</td>\n",
       "      <td>0.0274</td>\n",
       "    </tr>\n",
       "    <tr>\n",
       "      <th>behavioral_wash_hands</th>\n",
       "      <td>0.0747</td>\n",
       "      <td>0.1124</td>\n",
       "    </tr>\n",
       "    <tr>\n",
       "      <th>behavioral_touch_face</th>\n",
       "      <td>0.0716</td>\n",
       "      <td>0.1202</td>\n",
       "    </tr>\n",
       "    <tr>\n",
       "      <th>behavioral_face_mask</th>\n",
       "      <td>0.0705</td>\n",
       "      <td>0.0501</td>\n",
       "    </tr>\n",
       "    <tr>\n",
       "      <th>child_under_6_months</th>\n",
       "      <td>0.0670</td>\n",
       "      <td>0.0121</td>\n",
       "    </tr>\n",
       "    <tr>\n",
       "      <th>behavioral_avoidance</th>\n",
       "      <td>0.0477</td>\n",
       "      <td>0.0764</td>\n",
       "    </tr>\n",
       "    <tr>\n",
       "      <th>behavioral_antiviral_meds</th>\n",
       "      <td>0.0406</td>\n",
       "      <td>0.0063</td>\n",
       "    </tr>\n",
       "    <tr>\n",
       "      <th>behavioral_outside_home</th>\n",
       "      <td>0.0218</td>\n",
       "      <td>0.0535</td>\n",
       "    </tr>\n",
       "    <tr>\n",
       "      <th>behavioral_large_gatherings</th>\n",
       "      <td>0.0178</td>\n",
       "      <td>0.0640</td>\n",
       "    </tr>\n",
       "    <tr>\n",
       "      <th>opinion_seas_sick_from_vacc</th>\n",
       "      <td>0.0084</td>\n",
       "      <td>-0.0615</td>\n",
       "    </tr>\n",
       "    <tr>\n",
       "      <th>household_adults</th>\n",
       "      <td>0.0075</td>\n",
       "      <td>-0.0648</td>\n",
       "    </tr>\n",
       "    <tr>\n",
       "      <th>household_children</th>\n",
       "      <td>-0.0033</td>\n",
       "      <td>-0.1146</td>\n",
       "    </tr>\n",
       "  </tbody>\n",
       "</table>\n",
       "</div>"
      ],
      "text/plain": [
       "                             h1n1_vaccine  seasonal_vaccine\n",
       "h1n1_vaccine                       1.0000            0.3771\n",
       "doctor_recc_h1n1                   0.3939            0.1986\n",
       "seasonal_vaccine                   0.3771            1.0000\n",
       "opinion_h1n1_risk                  0.3233            0.2166\n",
       "opinion_h1n1_vacc_effective        0.2693            0.2051\n",
       "opinion_seas_risk                  0.2586            0.3901\n",
       "doctor_recc_seasonal               0.2099            0.3692\n",
       "opinion_seas_vacc_effective        0.1793            0.3619\n",
       "health_worker                      0.1698            0.1273\n",
       "h1n1_concern                       0.1219            0.1548\n",
       "health_insurance                   0.1212            0.2009\n",
       "h1n1_knowledge                     0.1180            0.1202\n",
       "chronic_med_condition              0.0952            0.1702\n",
       "opinion_h1n1_sick_from_vacc        0.0751            0.0274\n",
       "behavioral_wash_hands              0.0747            0.1124\n",
       "behavioral_touch_face              0.0716            0.1202\n",
       "behavioral_face_mask               0.0705            0.0501\n",
       "child_under_6_months               0.0670            0.0121\n",
       "behavioral_avoidance               0.0477            0.0764\n",
       "behavioral_antiviral_meds          0.0406            0.0063\n",
       "behavioral_outside_home            0.0218            0.0535\n",
       "behavioral_large_gatherings        0.0178            0.0640\n",
       "opinion_seas_sick_from_vacc        0.0084           -0.0615\n",
       "household_adults                   0.0075           -0.0648\n",
       "household_children                -0.0033           -0.1146"
      ]
     },
     "execution_count": 70,
     "metadata": {},
     "output_type": "execute_result"
    }
   ],
   "source": [
    "response_corr_1.join(response_corr_2)"
   ]
  },
  {
   "cell_type": "code",
   "execution_count": 71,
   "metadata": {},
   "outputs": [
    {
     "data": {
      "text/plain": [
       "<matplotlib.axes._subplots.AxesSubplot at 0x7fbeadb592b0>"
      ]
     },
     "execution_count": 71,
     "metadata": {},
     "output_type": "execute_result"
    },
    {
     "data": {
      "image/png": "[encoded data removed]",
      "text/plain": [
       "<Figure size 432x288 with 2 Axes>"
      ]
     },
     "metadata": {
      "needs_background": "light"
     },
     "output_type": "display_data"
    }
   ],
   "source": [
    "# Correlation Matrix Heatmap\n",
    "sns.heatmap(df_num.corr())"
   ]
  },
  {
   "cell_type": "markdown",
   "metadata": {},
   "source": [
    "### Transformation and Normalization"
   ]
  },
  {
   "cell_type": "code",
   "execution_count": 81,
   "metadata": {},
   "outputs": [],
   "source": [
    "# Transform data to log transform\n",
    "log_cols = df_num.columns \n",
    "\n",
    "# Creating new columns with new log prefix and natural logarithm transformation.\n",
    "for col in log_cols:\n",
    "    # Adding constant 1 to avoid transforming log of zero\n",
    "    df_num.loc[:,'log_'+col] = np.log(df_num[col]+1)"
   ]
  },
  {
   "cell_type": "code",
   "execution_count": 82,
   "metadata": {},
   "outputs": [],
   "source": [
    "# Dropping original values after being transformed\n",
    "df_num.drop(log_cols,axis=1,inplace=True)"
   ]
  },
  {
   "cell_type": "code",
   "execution_count": 84,
   "metadata": {},
   "outputs": [],
   "source": [
    "# Normalize data with Min-Max Scaler with a range of 0 to 1\n",
    "df_norm = pd.DataFrame(MinMaxScaler().fit_transform(df_num))\n",
    "df_norm.set_index(df_num.index, inplace = True)\n",
    "\n",
    "df_norm.columns = df_num.columns"
   ]
  },
  {
   "cell_type": "markdown",
   "metadata": {},
   "source": [
    "## Categorical Data"
   ]
  },
  {
   "cell_type": "code",
   "execution_count": 86,
   "metadata": {
    "code_folding": []
   },
   "outputs": [],
   "source": [
    "# Subsetting observations from numerical data \n",
    "df_cat = df_cat.loc[df_norm.index]"
   ]
  },
  {
   "cell_type": "code",
   "execution_count": null,
   "metadata": {},
   "outputs": [],
   "source": []
  },
  {
   "cell_type": "code",
   "execution_count": null,
   "metadata": {},
   "outputs": [],
   "source": []
  },
  {
   "cell_type": "code",
   "execution_count": null,
   "metadata": {},
   "outputs": [],
   "source": []
  },
  {
   "cell_type": "markdown",
   "metadata": {},
   "source": [
    "## Feature Engineering"
   ]
  },
  {
   "cell_type": "code",
   "execution_count": 87,
   "metadata": {},
   "outputs": [],
   "source": [
    "# Joining number data with categorical data, then separating features from the target value.\n",
    "df_features = df_cat.join(df_norm)"
   ]
  },
  {
   "cell_type": "markdown",
   "metadata": {},
   "source": [
    "### Domain Knowledge Features"
   ]
  },
  {
   "cell_type": "code",
   "execution_count": null,
   "metadata": {},
   "outputs": [],
   "source": []
  },
  {
   "cell_type": "code",
   "execution_count": null,
   "metadata": {},
   "outputs": [],
   "source": []
  },
  {
   "cell_type": "code",
   "execution_count": null,
   "metadata": {},
   "outputs": [],
   "source": []
  },
  {
   "cell_type": "code",
   "execution_count": 88,
   "metadata": {},
   "outputs": [],
   "source": [
    "# Making sure inf values turn into nan\n",
    "df_features.replace([np.inf, -np.inf], np.nan,inplace=True)\n",
    "df_features.fillna(0,inplace=True)"
   ]
  },
  {
   "cell_type": "markdown",
   "metadata": {},
   "source": [
    "### Interactions"
   ]
  },
  {
   "cell_type": "code",
   "execution_count": 89,
   "metadata": {},
   "outputs": [],
   "source": [
    "# Create every possible bivariate combination to be tested for feature engineering\n",
    "from itertools import combinations\n",
    "\n",
    "interaction_list = df_num.columns\n",
    "\n",
    "interactions = list(combinations(interaction_list, 2))"
   ]
  },
  {
   "cell_type": "code",
   "execution_count": 90,
   "metadata": {},
   "outputs": [
    {
     "data": {
      "text/plain": [
       "(53415, 288)"
      ]
     },
     "execution_count": 90,
     "metadata": {},
     "output_type": "execute_result"
    }
   ],
   "source": [
    "# Iterate through interaction list to perform linear regression for each possible engineered features\n",
    "for interaction in interactions:\n",
    "    df_features['{}_{}'.format(interaction[0],interaction[1])] = df_features[interaction[0]] * df_features[interaction[1]]\n",
    "\n",
    "df_features.shape"
   ]
  },
  {
   "cell_type": "markdown",
   "metadata": {},
   "source": [
    "## Train-Test Split"
   ]
  },
  {
   "cell_type": "code",
   "execution_count": 95,
   "metadata": {},
   "outputs": [],
   "source": [
    "# Dividing dataset into dependent and independent variables\n",
    "X = df_features\n",
    "y1 = df_response[response_var_1]\n",
    "y2 = df_response[response_var_2]"
   ]
  },
  {
   "cell_type": "markdown",
   "metadata": {},
   "source": [
    "### Split"
   ]
  },
  {
   "cell_type": "code",
   "execution_count": 58,
   "metadata": {},
   "outputs": [],
   "source": [
    "# Splitting the dataset into 75% Trainning and 25% Testing sets\n",
    "# X_train, X_test, y_train, y_test = train_test_split(X, y, \n",
    "#                                                     test_size = 0.25, \n",
    "#                                                     random_state = 219, \n",
    "#                                                     stratify=y)"
   ]
  },
  {
   "cell_type": "code",
   "execution_count": 96,
   "metadata": {},
   "outputs": [],
   "source": [
    "X_train = X.loc[train_features.index]\n",
    "X_test = X.loc[test_features.index]\n",
    "y1_train = y1\n",
    "y2_train = y2"
   ]
  },
  {
   "cell_type": "markdown",
   "metadata": {},
   "source": [
    "## Predictive Model Development"
   ]
  },
  {
   "cell_type": "code",
   "execution_count": 59,
   "metadata": {},
   "outputs": [],
   "source": [
    "# Defining a function to output metrics\n",
    "\n",
    "def metrics(model,X,y,X_train,y_train,X_test,y_test):\n",
    "    \n",
    "    # FITTING on the whole data (tuned models went through Cross-Validation with the whole data)\n",
    "    model_fit = model.fit(X,y)\n",
    "    \n",
    "    # PREDICTING on new data\n",
    "    model_pred = model_fit.predict(X_test)\n",
    "\n",
    "    # saving scoring data for future use\n",
    "    model_train_score = model.score(X_train,y_train).round(decimals = 4)\n",
    "    model_test_score  = model.score(X_test,y_test).round(decimals = 4)\n",
    "    \n",
    "    # ROC-AUC score  (test score)\n",
    "    auc_score = roc_auc_score(y_test,model_pred).round(decimals = 4)\n",
    "    \n",
    "    # unpacking the confusion matrix\n",
    "    model_tn, model_fp, model_fn, model_tp = confusion_matrix(y_true = y_test, y_pred = model_pred).ravel()\n",
    "    \n",
    "    # Confusion Matrix\n",
    "    c_matrix = (model_tn, model_fp, model_fn, model_tp)\n",
    "    \n",
    "    return model_train_score, model_test_score, auc_score, c_matrix\n",
    "    "
   ]
  },
  {
   "cell_type": "code",
   "execution_count": 60,
   "metadata": {},
   "outputs": [],
   "source": [
    "def plot_feature_importances(model, X_train, top_features=10):\n",
    "    \"\"\"\n",
    "    Plots the importance of features from a CART model.\n",
    "    \n",
    "    PARAMETERS\n",
    "    ----------\n",
    "    model  : CART model\n",
    "    train  : explanatory variable training data\n",
    "    top_features : number of top features to show\n",
    "    \n",
    "    \"\"\"\n",
    "    \n",
    "    # Getting features and their relative importance according to the model\n",
    "    features = X_train.columns\n",
    "    feature_importance = model.feature_importances_\n",
    "\n",
    "    # Creating dataframe \n",
    "    feature_importance_df = pd.DataFrame(data={'Feature Importance': feature_importance},index=features)\n",
    "    \n",
    "    # Sorted and top features\n",
    "    sorted_df = feature_importance_df.sort_values(by='Feature Importance', ascending=False).head(top_features)\n",
    "\n",
    "    # Plotting the result\n",
    "    sorted_df.plot.barh()\n",
    "    plt.xlabel(\"Feature importance (%)\")\n",
    "    "
   ]
  },
  {
   "cell_type": "markdown",
   "metadata": {},
   "source": [
    "### Logistic Regression"
   ]
  },
  {
   "cell_type": "code",
   "execution_count": 62,
   "metadata": {},
   "outputs": [],
   "source": [
    "# Instantiating OLS Linear Regression model\n",
    "logistic_regression = LogisticRegression()"
   ]
  },
  {
   "cell_type": "code",
   "execution_count": 63,
   "metadata": {},
   "outputs": [],
   "source": [
    "# # Hyperparameter tuning \n",
    "\n",
    "# # declaring a hyperparameter space\n",
    "# penalty_space          = ['l1', 'l2','elasticnet']\n",
    "# tol_space = np.arange(0.0001, 1, 0.005)\n",
    "# C_space  = np.arange(0.1, 5, 0.1)\n",
    "# class_weight_space = ['balanced',None]\n",
    "# solver_space     = ['newton-cg', 'sag', 'lbfgs','saga']\n",
    "# multi_class_space = ['auto', 'ovr', 'multinomial']\n",
    "# warm_start_space = [True, False]\n",
    "\n",
    "# # creating a hyperparameter grid\n",
    "# param_grid = {'penalty' : penalty_space,\n",
    "#                 'tol'   : tol_space,\n",
    "#                 'C'          : C_space ,\n",
    "#                 'class_weight' : class_weight_space,\n",
    "#                 'solver'     : solver_space,\n",
    "#                 'multi_class'     : multi_class_space,\n",
    "#                 'warm_start'     : warm_start_space}\n",
    "\n",
    "\n",
    "# # INSTANTIATING the model object without hyperparameters\n",
    "# logistic_tuned = logistic_regression\n",
    "\n",
    "\n",
    "\n",
    "# # RandomizedSearchCV object\n",
    "# logistic_tuned_cv = RandomizedSearchCV(estimator           = logistic_tuned,   # the model object\n",
    "#                                  param_distributions = param_grid, # parameters to tune\n",
    "#                                  cv                  = 3,          # how many folds in cross-validation\n",
    "#                                  n_iter              = 1000,        # number of combinations of hyperparameters to try\n",
    "#                                  random_state        = 219,        # starting point for random sequence\n",
    "#                                  scoring = make_scorer(\n",
    "#                                            roc_auc_score,\n",
    "#                                            needs_threshold = False)) # scoring criteria (AUC)\n",
    "\n",
    "\n",
    "\n",
    "\n",
    "# # FITTING to the FULL DATASET (due to cross-validation)\n",
    "# logistic_tuned_cv.fit(X, y)\n",
    "\n",
    "\n",
    "# # PREDICT step is not needed\n",
    "\n",
    "\n",
    "# # printing the optimal parameters and best score\n",
    "# print(\"Tuned Parameters  :\", logistic_tuned_cv.best_params_)\n",
    "# print(\"Tuned CV AUC      :\", logistic_tuned_cv.best_score_.round(4))\n"
   ]
  },
  {
   "cell_type": "code",
   "execution_count": 64,
   "metadata": {},
   "outputs": [],
   "source": [
    "# Storing tuned parameters in dictionary\n",
    "logistic_params = {'warm_start': False, 'tol': 0.8101, 'solver': 'newton-cg', \n",
    "                   'penalty': 'l2', 'multi_class': 'auto', \n",
    "                   'class_weight': 'balanced', 'C': 0.8}\n",
    "\n",
    "# Setting tuned parameters\n",
    "logistic_regression = logistic_regression.set_params(**logistic_params)"
   ]
  },
  {
   "cell_type": "code",
   "execution_count": 65,
   "metadata": {},
   "outputs": [],
   "source": [
    "# logistic_regression = logistic_tuned_cv.best_estimator_"
   ]
  },
  {
   "cell_type": "markdown",
   "metadata": {},
   "source": [
    "### K-Nearest Neighbors Classification (KNN)"
   ]
  },
  {
   "cell_type": "code",
   "execution_count": 66,
   "metadata": {},
   "outputs": [],
   "source": [
    "# Instantiating KNN model\n",
    "knn_classifier = KNeighborsClassifier()"
   ]
  },
  {
   "cell_type": "code",
   "execution_count": 67,
   "metadata": {},
   "outputs": [],
   "source": [
    "# # Hyperparameter tuning \n",
    "\n",
    "# # declaring a hyperparameter space\n",
    "# n_neighbors_space          = np.arange(15,25,1)\n",
    "# weights_space = ['uniform','distance']\n",
    "# algorithm_space          = ['auto','ball_tree','kd_tree','brute']\n",
    "# leaf_size_space = np.arange(15,30,5)\n",
    "# p_space = [1,2]\n",
    "\n",
    "# # creating a hyperparameter grid\n",
    "# param_grid = {'n_neighbors' : n_neighbors_space,\n",
    "#               'weights'   : weights_space,\n",
    "#                 'algorithm' : algorithm_space ,\n",
    "#               'leaf_size': leaf_size_space,\n",
    "#               'p' : p_space\n",
    "#              }\n",
    "\n",
    "\n",
    "# # INSTANTIATING the model object without hyperparameters\n",
    "# knn_tuned = knn_classifier\n",
    "\n",
    "\n",
    "\n",
    "# # RandomizedSearchCV object\n",
    "# knn_tuned_cv = RandomizedSearchCV(estimator           = knn_tuned,   # the model object\n",
    "#                                  param_distributions = param_grid, # parameters to tune\n",
    "#                                  cv                  = 3,          # how many folds in cross-validation\n",
    "#                                  n_iter              = 1000,        # number of combinations of hyperparameters to try\n",
    "#                                  random_state        = 219,        # starting point for random sequence\n",
    "#                                  scoring = make_scorer(\n",
    "#                                            roc_auc_score,\n",
    "#                                            needs_threshold = False)) # scoring criteria (AUC)\n",
    "\n",
    "\n",
    "\n",
    "\n",
    "# # FITTING to the FULL DATASET (due to cross-validation)\n",
    "# knn_tuned_cv.fit(X, y)\n",
    "\n",
    "\n",
    "# # PREDICT step is not needed\n",
    "\n",
    "\n",
    "# # printing the optimal parameters and best score\n",
    "# print(\"Tuned Parameters  :\", knn_tuned_cv.best_params_)\n",
    "# print(\"Tuned CV AUC      :\", knn_tuned_cv.best_score_.round(4))\n"
   ]
  },
  {
   "cell_type": "code",
   "execution_count": 68,
   "metadata": {},
   "outputs": [],
   "source": [
    "# Storing tuned parameters in dictionary\n",
    "knn_params = {'weights': 'uniform', 'p': 2, 'n_neighbors': 16, \n",
    "              'leaf_size': 15, 'algorithm': 'kd_tree'}\n",
    "\n",
    "# Setting tuned parameters\n",
    "knn_classifier = knn_classifier.set_params(**knn_params)"
   ]
  },
  {
   "cell_type": "code",
   "execution_count": 69,
   "metadata": {},
   "outputs": [],
   "source": [
    "# knn_classifier = knn_tuned_cv.best_estimator_"
   ]
  },
  {
   "cell_type": "markdown",
   "metadata": {},
   "source": [
    "### Classification Tree "
   ]
  },
  {
   "cell_type": "code",
   "execution_count": 70,
   "metadata": {},
   "outputs": [],
   "source": [
    "# Instantiating classification tree model\n",
    "tree_classifier = DecisionTreeClassifier()"
   ]
  },
  {
   "cell_type": "code",
   "execution_count": 71,
   "metadata": {},
   "outputs": [],
   "source": [
    "# # Hyperparameter tuning \n",
    "\n",
    "# # declaring a hyperparameter space\n",
    "# criterion_space          = ['gini', 'entropy']\n",
    "# splitter_space = ['best','random']\n",
    "# max_depth_space          = np.arange(2, 6, 1)\n",
    "# min_samples_leaf_space = np.arange(5, 15, 1)\n",
    "# min_samples_split_space = np.arange(2, 4, 1)\n",
    "# max_features_space     = ['auto', 'sqrt', 'log2']\n",
    "\n",
    "\n",
    "# # creating a hyperparameter grid\n",
    "# param_grid = {'criterion' : criterion_space,\n",
    "#               'splitter'   : splitter_space,\n",
    "#                 'max_depth'          : max_depth_space ,\n",
    "#               'min_samples_leaf' : min_samples_leaf_space,\n",
    "#               'min_samples_split'     : min_samples_split_space,\n",
    "#                'max_features'     : max_features_space}\n",
    "\n",
    "\n",
    "# # INSTANTIATING the model object without hyperparameters\n",
    "# tree_tuned = tree_classifier\n",
    "\n",
    "\n",
    "\n",
    "# # RandomizedSearchCV object\n",
    "# tree_tuned_cv = RandomizedSearchCV(estimator           = tree_tuned,   # the model object\n",
    "#                                  param_distributions = param_grid, # parameters to tune\n",
    "#                                  cv                  = 3,          # how many folds in cross-validation\n",
    "#                                  n_iter              = 1000,        # number of combinations of hyperparameters to try\n",
    "#                                  random_state        = 219,        # starting point for random sequence\n",
    "#                                  scoring = make_scorer(\n",
    "#                                            roc_auc_score,\n",
    "#                                            needs_threshold = False)) # scoring criteria (AUC)\n",
    "\n",
    "\n",
    "\n",
    "\n",
    "# # FITTING to the FULL DATASET (due to cross-validation)\n",
    "# tree_tuned_cv.fit(X, y)\n",
    "\n",
    "\n",
    "# # PREDICT step is not needed\n",
    "\n",
    "\n",
    "# # printing the optimal parameters and best score\n",
    "# print(\"Tuned Parameters  :\", tree_tuned_cv.best_params_)\n",
    "# print(\"Tuned CV AUC      :\", tree_tuned_cv.best_score_.round(4))\n"
   ]
  },
  {
   "cell_type": "code",
   "execution_count": 72,
   "metadata": {},
   "outputs": [],
   "source": [
    "# Storing tuned parameters in dictionary\n",
    "tree_params = {'splitter': 'best', 'min_samples_split': 3, 'min_samples_leaf': 6, \n",
    "               'max_features': 'auto', 'max_depth': 3, 'criterion': 'gini'}\n",
    "\n",
    "# Setting tuned parameters\n",
    "tree_classifier = tree_classifier.set_params(**tree_params)"
   ]
  },
  {
   "cell_type": "code",
   "execution_count": 73,
   "metadata": {},
   "outputs": [],
   "source": [
    "# tree_classifier = tree_tuned_cv.best_estimator_"
   ]
  },
  {
   "cell_type": "markdown",
   "metadata": {},
   "source": [
    "### Random Forest"
   ]
  },
  {
   "cell_type": "code",
   "execution_count": 74,
   "metadata": {},
   "outputs": [],
   "source": [
    "# Instantiating Random Forest model\n",
    "random_forest = RandomForestClassifier(max_depth=8)"
   ]
  },
  {
   "cell_type": "code",
   "execution_count": 75,
   "metadata": {},
   "outputs": [],
   "source": [
    "# # Hyperparameter tuning \n",
    "\n",
    "# # declaring a hyperparameter space\n",
    "# n_estimators_space          = np.arange(50, 150, 10)\n",
    "# max_depth_space  = np.arange(4, 8, 1)\n",
    "# min_samples_split_space  = np.arange(6, 10, 2)\n",
    "# min_samples_leaf_space  = np.arange(24, 30, 2)\n",
    "# max_features_space = [\"auto\", \"sqrt\", \"log2\"]\n",
    "# max_leaf_nodes_space = np.arange(40, 80, 10)\n",
    "# class_weight_space = ['balanced','balanced_subsample']\n",
    "\n",
    "\n",
    "# # creating a hyperparameter grid\n",
    "# param_grid = {'n_estimators' : n_estimators_space,\n",
    "#                 'max_depth'          : max_depth_space ,\n",
    "#                 'min_samples_split' : min_samples_split_space,\n",
    "#                 'min_samples_leaf'     : min_samples_leaf_space,\n",
    "#                 'max_features'     : max_features_space,\n",
    "#                 'max_leaf_nodes'     : max_leaf_nodes_space,\n",
    "#                 'class_weight'     : class_weight_space}\n",
    "\n",
    "\n",
    "# # INSTANTIATING the model object without hyperparameters\n",
    "# forest_tuned = random_forest\n",
    "\n",
    "\n",
    "\n",
    "# # RandomizedSearchCV object\n",
    "# forest_tuned_cv = RandomizedSearchCV(estimator           = forest_tuned,   # the model object\n",
    "#                                  param_distributions = param_grid, # parameters to tune\n",
    "#                                  cv                  = 3,          # how many folds in cross-validation\n",
    "#                                  n_iter              = 1000,        # number of combinations of hyperparameters to try\n",
    "#                                  random_state        = 219,        # starting point for random sequence\n",
    "#                                  scoring = make_scorer(\n",
    "#                                            roc_auc_score,\n",
    "#                                            needs_threshold = False)) # scoring criteria (AUC)\n",
    "\n",
    "\n",
    "\n",
    "\n",
    "# # FITTING to the FULL DATASET (due to cross-validation)\n",
    "# forest_tuned_cv.fit(X, y)\n",
    "\n",
    "\n",
    "# # PREDICT step is not needed\n",
    "\n",
    "\n",
    "# # printing the optimal parameters and best score\n",
    "# print(\"Tuned Parameters  :\", forest_tuned_cv.best_params_)\n",
    "# print(\"Tuned CV AUC      :\", forest_tuned_cv.best_score_.round(4))\n"
   ]
  },
  {
   "cell_type": "code",
   "execution_count": 76,
   "metadata": {},
   "outputs": [],
   "source": [
    "# Storing tuned parameters in dictionary\n",
    "forest_params = {'n_estimators': 100, 'min_samples_split': 6, 'min_samples_leaf': 26, \n",
    "                 'max_leaf_nodes': 40, 'max_features': 'auto', 'max_depth': 7, \n",
    "                 'class_weight': 'balanced'}\n",
    "\n",
    "# Setting tuned parameters\n",
    "random_forest = random_forest.set_params(**forest_params)"
   ]
  },
  {
   "cell_type": "code",
   "execution_count": 77,
   "metadata": {},
   "outputs": [],
   "source": [
    "# random_forest = forest_tuned_cv.best_estimator_"
   ]
  },
  {
   "cell_type": "markdown",
   "metadata": {},
   "source": [
    "### Gradient Boosted Models (GBM)"
   ]
  },
  {
   "cell_type": "code",
   "execution_count": 78,
   "metadata": {},
   "outputs": [],
   "source": [
    "# Instantiating GBM\n",
    "gradient_boosting = GradientBoostingClassifier(max_depth=8)"
   ]
  },
  {
   "cell_type": "code",
   "execution_count": 79,
   "metadata": {},
   "outputs": [],
   "source": [
    "# # Hyperparameter tuning \n",
    "\n",
    "# # declaring a hyperparameter space\n",
    "# n_estimators_space          = np.arange(50, 200, 20)\n",
    "# max_depth_space  = np.arange(3, 8, 1)\n",
    "# max_leaf_nodes_space = np.arange(10, 30, 2)\n",
    "\n",
    "\n",
    "# # creating a hyperparameter grid\n",
    "# param_grid = {\n",
    "#                 'n_estimators'          : n_estimators_space ,\n",
    "#                 'max_depth'     : max_depth_space,\n",
    "#              'max_leaf_nodes'     : max_leaf_nodes_space}\n",
    "\n",
    "\n",
    "# # INSTANTIATING the model object without hyperparameters\n",
    "# boost_tuned = gradient_boosting\n",
    "\n",
    "\n",
    "\n",
    "# # RandomizedSearchCV object\n",
    "# boost_tuned_cv = RandomizedSearchCV(estimator           = boost_tuned,   # the model object\n",
    "#                                  param_distributions = param_grid, # parameters to tune\n",
    "#                                  cv                  = 3,          # how many folds in cross-validation\n",
    "#                                  n_iter              = 1000,        # number of combinations of hyperparameters to try\n",
    "#                                  random_state        = 219,        # starting point for random sequence\n",
    "#                                  scoring = make_scorer(\n",
    "#                                            roc_auc_score,\n",
    "#                                            needs_threshold = False)) # scoring criteria (AUC)\n",
    "\n",
    "\n",
    "\n",
    "\n",
    "# # FITTING to the FULL DATASET (due to cross-validation)\n",
    "# boost_tuned_cv.fit(X, y)\n",
    "\n",
    "\n",
    "# # printing the optimal parameters and best score\n",
    "# print(\"Tuned Parameters  :\", boost_tuned_cv.best_params_)\n",
    "# print(\"Tuned CV AUC      :\", boost_tuned_cv.best_score_.round(4))\n"
   ]
  },
  {
   "cell_type": "code",
   "execution_count": 80,
   "metadata": {},
   "outputs": [],
   "source": [
    "# Storing tuned parameters in dictionary\n",
    "boost_params = {'n_estimators': 70, 'max_leaf_nodes': 12, 'max_depth': 4}\n",
    "\n",
    "# Setting tuned parameters\n",
    "gradient_boosting = gradient_boosting.set_params(**boost_params)"
   ]
  },
  {
   "cell_type": "code",
   "execution_count": 81,
   "metadata": {},
   "outputs": [],
   "source": [
    "# gradient_boosting = boost_tuned_cv.best_estimator_"
   ]
  },
  {
   "cell_type": "code",
   "execution_count": 82,
   "metadata": {},
   "outputs": [],
   "source": [
    "# # Plotting relative feature importance sa\n",
    "# plot_feature_importances(gradient_boosting, X_train, 15)"
   ]
  },
  {
   "cell_type": "markdown",
   "metadata": {},
   "source": [
    "## Model Performance Comparison"
   ]
  },
  {
   "cell_type": "code",
   "execution_count": 83,
   "metadata": {},
   "outputs": [],
   "source": [
    "# Runnign function gather score of models\n",
    "logistic_train_score, logistic_test_score, logistic_auc_score, logistic_c_matrix = metrics(logistic_regression,X,y,X_train,y_train,X_test,y_test)\n",
    "knn_train_score, knn_test_score, knn_auc_score, knn_c_matrix = metrics(knn_classifier,X,y,X_train,y_train,X_test,y_test)\n",
    "tree_train_score, tree_test_score, tree_auc_score, tree_c_matrix  = metrics(tree_classifier,X,y,X_train,y_train,X_test,y_test)\n",
    "random_train_score, random_test_score, random_auc_score, random_c_matrix  = metrics(random_forest,X,y,X_train,y_train,X_test,y_test)\n",
    "gradient_train_score, gradient_test_score, gradient_auc_score, gradient_c_matrix  = metrics(gradient_boosting,X,y,X_train,y_train,X_test,y_test)"
   ]
  },
  {
   "cell_type": "code",
   "execution_count": 84,
   "metadata": {},
   "outputs": [
    {
     "data": {
      "text/html": [
       "<div>\n",
       "<style scoped>\n",
       "    .dataframe tbody tr th:only-of-type {\n",
       "        vertical-align: middle;\n",
       "    }\n",
       "\n",
       "    .dataframe tbody tr th {\n",
       "        vertical-align: top;\n",
       "    }\n",
       "\n",
       "    .dataframe thead th {\n",
       "        text-align: right;\n",
       "    }\n",
       "</style>\n",
       "<table border=\"1\" class=\"dataframe\">\n",
       "  <thead>\n",
       "    <tr style=\"text-align: right;\">\n",
       "      <th></th>\n",
       "      <th>Model Type</th>\n",
       "      <th>AUC Score</th>\n",
       "      <th>Training Accuracy</th>\n",
       "      <th>Testing Accuracy</th>\n",
       "      <th>Confusion Matrix</th>\n",
       "    </tr>\n",
       "  </thead>\n",
       "  <tbody>\n",
       "    <tr>\n",
       "      <th>0</th>\n",
       "      <td>Logistic Regression</td>\n",
       "      <td>0.7202</td>\n",
       "      <td>0.7231</td>\n",
       "      <td>0.7187</td>\n",
       "      <td>(113, 43, 94, 237)</td>\n",
       "    </tr>\n",
       "    <tr>\n",
       "      <th>1</th>\n",
       "      <td>KNN</td>\n",
       "      <td>0.6293</td>\n",
       "      <td>0.7313</td>\n",
       "      <td>0.7310</td>\n",
       "      <td>(54, 102, 29, 302)</td>\n",
       "    </tr>\n",
       "    <tr>\n",
       "      <th>2</th>\n",
       "      <td>Decision Tree</td>\n",
       "      <td>0.5192</td>\n",
       "      <td>0.6765</td>\n",
       "      <td>0.6920</td>\n",
       "      <td>(6, 150, 0, 331)</td>\n",
       "    </tr>\n",
       "    <tr>\n",
       "      <th>3</th>\n",
       "      <td>Random Forest</td>\n",
       "      <td>0.7834</td>\n",
       "      <td>0.7903</td>\n",
       "      <td>0.8070</td>\n",
       "      <td>(112, 44, 50, 281)</td>\n",
       "    </tr>\n",
       "    <tr>\n",
       "      <th>4</th>\n",
       "      <td>GBM (Final Model)</td>\n",
       "      <td>0.8503</td>\n",
       "      <td>0.8794</td>\n",
       "      <td>0.8932</td>\n",
       "      <td>(114, 42, 10, 321)</td>\n",
       "    </tr>\n",
       "  </tbody>\n",
       "</table>\n",
       "</div>"
      ],
      "text/plain": [
       "            Model Type  AUC Score  Training Accuracy  Testing Accuracy  \\\n",
       "0  Logistic Regression     0.7202             0.7231            0.7187   \n",
       "1                  KNN     0.6293             0.7313            0.7310   \n",
       "2        Decision Tree     0.5192             0.6765            0.6920   \n",
       "3        Random Forest     0.7834             0.7903            0.8070   \n",
       "4    GBM (Final Model)     0.8503             0.8794            0.8932   \n",
       "\n",
       "     Confusion Matrix  \n",
       "0  (113, 43, 94, 237)  \n",
       "1  (54, 102, 29, 302)  \n",
       "2    (6, 150, 0, 331)  \n",
       "3  (112, 44, 50, 281)  \n",
       "4  (114, 42, 10, 321)  "
      ]
     },
     "execution_count": 84,
     "metadata": {},
     "output_type": "execute_result"
    }
   ],
   "source": [
    "# creating a dictionary to store model results\n",
    "model_performance = {\n",
    "    \n",
    "    'Model Type'    : ['Logistic Regression', 'KNN','Decision Tree', 'Random Forest', 'GBM (Final Model)'],\n",
    "           \n",
    "    \n",
    "    'AUC Score'  : [logistic_auc_score,\n",
    "                    knn_auc_score, tree_auc_score,random_auc_score,gradient_auc_score],\n",
    "    \n",
    "    'Training Accuracy' : [logistic_train_score,\n",
    "                        knn_train_score, tree_train_score,random_train_score,gradient_train_score],\n",
    "           \n",
    "    'Testing Accuracy'  : [logistic_test_score,\n",
    "                        knn_test_score, tree_test_score,random_test_score,gradient_test_score],\n",
    "    \n",
    "    'Confusion Matrix' : [logistic_c_matrix, knn_c_matrix, tree_c_matrix, random_c_matrix, gradient_c_matrix]\n",
    "\n",
    "}\n",
    "\n",
    "\n",
    "# converting model_performance into a DataFrame\n",
    "model_performance = pd.DataFrame(model_performance)\n",
    "model_performance"
   ]
  },
  {
   "cell_type": "code",
   "execution_count": 85,
   "metadata": {},
   "outputs": [
    {
     "name": "stdout",
     "output_type": "stream",
     "text": [
      "Time in Seconds: 15.46\n"
     ]
    }
   ],
   "source": [
    "# Number of Seconds to run the script\n",
    "end = time.time()\n",
    "print(\"Time in Seconds:\", round(end - start,2))"
   ]
  },
  {
   "cell_type": "code",
   "execution_count": null,
   "metadata": {},
   "outputs": [],
   "source": []
  }
 ],
 "metadata": {
  "kernelspec": {
   "display_name": "Python 3",
   "language": "python",
   "name": "python3"
  },
  "language_info": {
   "codemirror_mode": {
    "name": "ipython",
    "version": 3
   },
   "file_extension": ".py",
   "mimetype": "text/x-python",
   "name": "python",
   "nbconvert_exporter": "python",
   "pygments_lexer": "ipython3",
   "version": "3.8.3"
  },
  "toc": {
   "base_numbering": 1,
   "nav_menu": {},
   "number_sections": true,
   "sideBar": true,
   "skip_h1_title": false,
   "title_cell": "Table of Contents",
   "title_sidebar": "Contents",
   "toc_cell": false,
   "toc_position": {
    "height": "calc(100% - 180px)",
    "left": "10px",
    "top": "150px",
    "width": "349.091px"
   },
   "toc_section_display": true,
   "toc_window_display": true
  },
  "varInspector": {
   "cols": {
    "lenName": 16,
    "lenType": 16,
    "lenVar": 40
   },
   "kernels_config": {
    "python": {
     "delete_cmd_postfix": "",
     "delete_cmd_prefix": "del ",
     "library": "var_list.py",
     "varRefreshCmd": "print(var_dic_list())"
    },
    "r": {
     "delete_cmd_postfix": ") ",
     "delete_cmd_prefix": "rm(",
     "library": "var_list.r",
     "varRefreshCmd": "cat(var_dic_list()) "
    }
   },
   "types_to_exclude": [
    "module",
    "function",
    "builtin_function_or_method",
    "instance",
    "_Feature"
   ],
   "window_display": false
  }
 },
 "nbformat": 4,
 "nbformat_minor": 4
}
